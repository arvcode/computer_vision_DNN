{
 "cells": [
  {
   "cell_type": "code",
   "execution_count": 16,
   "metadata": {},
   "outputs": [
    {
     "data": {
      "text/plain": [
       "Sequential(\n",
       "  (fc1): Linear(in_features=784, out_features=400, bias=True)\n",
       "  (relu1): ReLU()\n",
       "  (fc2): Linear(in_features=400, out_features=200, bias=True)\n",
       "  (relu2): ReLU()\n",
       "  (fc3): Linear(in_features=200, out_features=100, bias=True)\n",
       "  (relu3): ReLU()\n",
       "  (output): Linear(in_features=100, out_features=10, bias=True)\n",
       "  (softmax): Softmax()\n",
       ")"
      ]
     },
     "execution_count": 16,
     "metadata": {},
     "output_type": "execute_result"
    }
   ],
   "source": [
    "#\n",
    "# This notebook is a derivative of Udacity's CV-ND PyTorch Exercises.\n",
    "# Original notebooks can be found at,\n",
    "# https://github.com/udacity/DL_PyTorch\n",
    "#\n",
    "\n",
    "#Objective : Train a Feed Forward Neural Network on MNIST dataset.\n",
    "\n",
    "#import PyTorch, NumPy\n",
    "\n",
    "%matplotlib inline\n",
    "%config InlineBackend.figure_format = 'retina'\n",
    "\n",
    "import numpy as np\n",
    "import helper # From Udacity CV-ND \n",
    "\n",
    "import torch\n",
    "import matplotlib.pyplot as plt\n",
    "\n",
    "#import torchvision\n",
    "from torchvision import datasets, transforms\n",
    "\n",
    "from torch import nn\n",
    "from torch import optim\n",
    "import torch.nn.functional as F\n",
    "from collections import OrderedDict\n",
    "\n",
    "#Normalization.\n",
    "transform = transforms.Compose([transforms.ToTensor(),\n",
    "                              transforms.Normalize((0.5, ), (0.5, )),\n",
    "                             ])\n",
    "# Download training dataset\n",
    "trainset = datasets.MNIST('MNIST_data/', download=True, train=True, transform=transform)\n",
    "trainloader = torch.utils.data.DataLoader(trainset, batch_size=64, shuffle=True)\n",
    "\n",
    "# Download test dataset\n",
    "testset = datasets.MNIST('MNIST_data/', download=True, train=False, transform=transform)\n",
    "testloader = torch.utils.data.DataLoader(testset, batch_size=64, shuffle=True)\n",
    "\n",
    "\n",
    "\n",
    "#Hyperparameters for Feed forward network with 3 hidden layers.\n",
    "\n",
    "pic_dim_w=28\n",
    "pic_dim_h=28\n",
    "input_size = pic_dim_w*pic_dim_h\n",
    "hidden_size = [400,200,100]\n",
    "output_size = 10\n",
    "\n",
    "model= nn.Sequential(OrderedDict([\n",
    "                      ('fc1',nn.Linear(input_size,hidden_size[0])),\n",
    "                      ('relu1',nn.ReLU()),\n",
    "                      ('fc2',nn.Linear(hidden_size[0],hidden_size[1])),\n",
    "                      ('relu2',nn.ReLU()),\n",
    "                      ('fc3',nn.Linear(hidden_size[1],hidden_size[2])),\n",
    "                      ('relu3',nn.ReLU()),\n",
    "                      ('output',nn.Linear(hidden_size[2],output_size)),\n",
    "                      ('softmax',nn.Softmax(dim=1))                \n",
    "                    ]))\n",
    "\n",
    "model"
   ]
  },
  {
   "cell_type": "code",
   "execution_count": 18,
   "metadata": {},
   "outputs": [
    {
     "name": "stdout",
     "output_type": "stream",
     "text": [
      "torch.Size([64, 1, 784])\n"
     ]
    },
    {
     "data": {
      "image/png": "[encoded data removed]",
      "text/plain": [
       "<matplotlib.figure.Figure at 0x21871f55e10>"
      ]
     },
     "metadata": {
      "image/png": {
       "height": 224,
       "width": 423
      },
      "needs_background": "light"
     },
     "output_type": "display_data"
    }
   ],
   "source": [
    "dataiter = iter(trainloader)\n",
    "images,labels=dataiter.next()\n",
    "images.resize_(images.shape[0], 1, 784)\n",
    "\n",
    "print(images.shape)\n",
    "ps = model.forward(images[0,:])\n",
    "helper.view_classify(images[0].view(1, 28, 28), ps)"
   ]
  },
  {
   "cell_type": "code",
   "execution_count": null,
   "metadata": {},
   "outputs": [],
   "source": []
  }
 ],
 "metadata": {
  "kernelspec": {
   "display_name": "Python 3",
   "language": "python",
   "name": "python3"
  },
  "language_info": {
   "codemirror_mode": {
    "name": "ipython",
    "version": 3
   },
   "file_extension": ".py",
   "mimetype": "text/x-python",
   "name": "python",
   "nbconvert_exporter": "python",
   "pygments_lexer": "ipython3",
   "version": "3.6.12"
  }
 },
 "nbformat": 4,
 "nbformat_minor": 4
}
